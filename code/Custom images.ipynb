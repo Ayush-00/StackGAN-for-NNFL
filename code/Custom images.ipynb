{
 "cells": [
  {
   "cell_type": "code",
   "execution_count": 1,
   "metadata": {},
   "outputs": [],
   "source": [
    "import torchfile\n",
    "\n",
    "data = torchfile.load('example_captions.t7')"
   ]
  },
  {
   "cell_type": "code",
   "execution_count": 2,
   "metadata": {},
   "outputs": [
    {
     "data": {
      "text/plain": [
       "{b'raw_txt': [b'this bird has a bright yellow body, with red on its crown and wings.',\n",
       "  b'this bird has a red breast and belly as well as a small bill.',\n",
       "  b'small, roundish bird with off white breast and belly, light brown crown, brown and black colored wings.',\n",
       "  b'A white bird with a black crown and red beak',\n",
       "  b'the bird has gray crown, belly and white abdomen, with black tarsus and feet',\n",
       "  b'a colorful bird with a bright yellow body, a black crown and throat, orange beak, and black primaries and secondaries.',\n",
       "  b'A white bird with a black crown and red beak this bird has red breast and yellow belly'],\n",
       " b'fea_txt': [array([[-0.04520281,  0.08152433,  0.24846981, ..., -0.06418797,\n",
       "          -0.12716012, -0.16215473]], dtype=float32),\n",
       "  array([[ 0.01993364,  0.00673996,  0.06831662, ..., -0.08569273,\n",
       "          -0.00709567, -0.03015756]], dtype=float32),\n",
       "  array([[ 0.01357333,  0.26799026,  0.15347357, ..., -0.20801714,\n",
       "          -0.04913272, -0.10959315]], dtype=float32),\n",
       "  array([[ 0.0622804 ,  0.1033069 ,  0.02244763, ..., -0.26784876,\n",
       "          -0.12365062, -0.28528336]], dtype=float32),\n",
       "  array([[ 0.00622625,  0.06240898,  0.04305696, ..., -0.05949582,\n",
       "          -0.0443444 ,  0.02234487]], dtype=float32),\n",
       "  array([[-0.18680504, -0.04083143,  0.27580217, ..., -0.3434791 ,\n",
       "          -0.17408581,  0.1208065 ]], dtype=float32),\n",
       "  array([[ 0.09693024,  0.02229223,  0.29907197, ..., -0.33310536,\n",
       "          -0.16499773, -0.3351603 ]], dtype=float32)]}"
      ]
     },
     "execution_count": 2,
     "metadata": {},
     "output_type": "execute_result"
    }
   ],
   "source": [
    "data"
   ]
  },
  {
   "cell_type": "code",
   "execution_count": 3,
   "metadata": {},
   "outputs": [],
   "source": [
    "from model import STAGE1_G as G1"
   ]
  },
  {
   "cell_type": "code",
   "execution_count": 4,
   "metadata": {},
   "outputs": [
    {
     "data": {
      "text/plain": [
       "torchfile.hashable_uniq_dict"
      ]
     },
     "execution_count": 4,
     "metadata": {},
     "output_type": "execute_result"
    }
   ],
   "source": [
    "type(data)"
   ]
  },
  {
   "cell_type": "code",
   "execution_count": 5,
   "metadata": {},
   "outputs": [],
   "source": [
    "embeddings = data[b'fea_txt']"
   ]
  },
  {
   "cell_type": "code",
   "execution_count": 6,
   "metadata": {},
   "outputs": [
    {
     "data": {
      "text/plain": [
       "7"
      ]
     },
     "execution_count": 6,
     "metadata": {},
     "output_type": "execute_result"
    }
   ],
   "source": [
    "len(embeddings)"
   ]
  },
  {
   "cell_type": "code",
   "execution_count": 7,
   "metadata": {},
   "outputs": [],
   "source": [
    "type(embeddings[0])\n",
    "import numpy as np"
   ]
  },
  {
   "cell_type": "code",
   "execution_count": 8,
   "metadata": {},
   "outputs": [],
   "source": [
    "import torch\n",
    "import matplotlib.pyplot as plt\n",
    "from torch.autograd import Variable"
   ]
  },
  {
   "cell_type": "code",
   "execution_count": 10,
   "metadata": {},
   "outputs": [
    {
     "name": "stderr",
     "output_type": "stream",
     "text": [
      "Clipping input data to the valid range for imshow with RGB data ([0..1] for floats or [0..255] for integers).\n"
     ]
    },
    {
     "data": {
      "text/plain": [
       "b'this bird has a bright yellow body, with red on its crown and wings.'"
      ]
     },
     "execution_count": 10,
     "metadata": {},
     "output_type": "execute_result"
    },
    {
     "data": {
      "image/png": "[encoded data removed]",
      "text/plain": [
       "<Figure size 432x288 with 1 Axes>"
      ]
     },
     "metadata": {
      "needs_background": "light"
     },
     "output_type": "display_data"
    }
   ],
   "source": [
    "path_model = '../models/netG_epoch_100.pth'\n",
    "\n",
    "generator = G1()\n",
    "generator.load_state_dict(torch.load(path_model, map_location='cuda:0'))\n",
    "generator.cuda()\n",
    "\n",
    "generator.cuda()\n",
    "generator.eval()\n",
    "\n",
    "batchsize = 1\n",
    "nz = 100\n",
    "\n",
    "num_img = 0\n",
    "\n",
    "#for i in range(len(embeddings)):\n",
    "with torch.no_grad():\n",
    "    for i in range(num_img, num_img+1):\n",
    "        emb = embeddings[i]\n",
    "        noise = Variable(torch.FloatTensor(batchsize, nz)).cuda()\n",
    "        noise.data.normal_(0, 1)\n",
    "        input = torch.Tensor(emb).cuda()\n",
    "        _, fake_img, mu, logvar = generator(input, noise)\n",
    "        #print(fake_img.shape)\n",
    "        plt.imshow(fake_img[0].permute(1,2,0).cpu())\n",
    "        \n",
    "data[b'raw_txt'][num_img]"
   ]
  },
  {
   "cell_type": "code",
   "execution_count": null,
   "metadata": {},
   "outputs": [],
   "source": []
  },
  {
   "cell_type": "code",
   "execution_count": null,
   "metadata": {},
   "outputs": [],
   "source": []
  }
 ],
 "metadata": {
  "kernelspec": {
   "display_name": "Python NNFL",
   "language": "python",
   "name": "nnfl"
  },
  "language_info": {
   "codemirror_mode": {
    "name": "ipython",
    "version": 3
   },
   "file_extension": ".py",
   "mimetype": "text/x-python",
   "name": "python",
   "nbconvert_exporter": "python",
   "pygments_lexer": "ipython3",
   "version": "3.8.5"
  }
 },
 "nbformat": 4,
 "nbformat_minor": 4
}
